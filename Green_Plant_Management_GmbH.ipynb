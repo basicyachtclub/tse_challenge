{
 "cells": [
  {
   "cell_type": "markdown",
   "id": "66e02a89-e542-4101-9a0c-57fcf4675432",
   "metadata": {},
   "source": [
    "## Green-Plant Management GmbH - Deforastation Management\n",
    "### Step 0 - Registration\n",
    "Please [register](https://console.up42.com/register) for the UP42 platform and\n",
    "review and [accept the end-user license agreement](https://docs.up42.com/getting-started/account/eulas) (EULA). \n",
    "\n",
    "### Step 1 - Installation\n",
    "Install the required packages on your local machine (see [documentation](https://sdk.up42.com/))\n",
    "\n",
    "```\n",
    "pip install up42-py\n",
    "```\n",
    "\n",
    "### Step 2 - Authentication\n",
    "First please create a authentication file named 'credentials.json' which contains your **UP42 credentials** as follows\n",
    "\n",
    "```json\n",
    "{\n",
    "    \"username\" : \"<your-email-address>\",\n",
    "    \"password\" : \"<your-password>\"\n",
    "}\n",
    "```\n",
    "\r\n",
    "}\n"
   ]
  },
  {
   "cell_type": "code",
   "execution_count": 1,
   "id": "39901b5d-6f76-4cf4-a8ae-c7ffb962222c",
   "metadata": {},
   "outputs": [
    {
     "name": "stderr",
     "output_type": "stream",
     "text": [
      "2023-12-13 16:41:33,418 - Got credentials from config file.\n",
      "2023-12-13 16:41:34,804 - Authentication with UP42 successful!\n"
     ]
    }
   ],
   "source": [
    "import up42\n",
    "up42.authenticate(cfg_file=\"credentials.json\")"
   ]
  },
  {
   "cell_type": "markdown",
   "id": "7c25e37b-d380-4179-bfe5-b0b6574cbf7c",
   "metadata": {},
   "source": [
    "### Step 3 - Choose the tasking collection\n",
    "Get the Sentinel-2 collection `data_product_id` for ordering."
   ]
  },
  {
   "cell_type": "code",
   "execution_count": 2,
   "id": "92721469-d146-4586-9bd5-099864de77e9",
   "metadata": {},
   "outputs": [
    {
     "name": "stdout",
     "output_type": "stream",
     "text": [
      "c3de9ed8-f6e5-4bb5-a157-f6430ba756da\n"
     ]
    }
   ],
   "source": [
    "catalog = up42.initialize_catalog()\n",
    "data_product_id = catalog.get_data_products(basic=True).get(\"Sentinel-2\").get(\"data_products\").get(\"Level-2A\")\n",
    "data_products = catalog.get_data_products(basic=True) # dictionary of all data products\n",
    "\n",
    "print(data_product_id)"
   ]
  },
  {
   "cell_type": "markdown",
   "id": "c6dfc722-863d-430d-931a-fe3f3c072a97",
   "metadata": {},
   "source": [
    "### Step 4 - Fill Out an Order Form\n",
    "Retrieve Geometry from `GeoJSON`"
   ]
  },
  {
   "cell_type": "code",
   "execution_count": 3,
   "id": "6f248b8c-800c-4953-b253-4be4a53d4c17",
   "metadata": {},
   "outputs": [],
   "source": [
    "geometry = up42.read_vector_file(\"data/amazonas.geojson\")"
   ]
  },
  {
   "cell_type": "markdown",
   "id": "3aa1b15e-7705-45c7-8eca-5ac9895e018e",
   "metadata": {},
   "source": [
    "and search catalog for data from beginning of observation period (`start_date`) until end of observation period (`end_date`)"
   ]
  },
  {
   "cell_type": "code",
   "execution_count": 4,
   "id": "c2eceaf6-0ed3-4c30-89b7-1d4c9cef4118",
   "metadata": {
    "scrolled": true
   },
   "outputs": [
    {
     "name": "stderr",
     "output_type": "stream",
     "text": [
      "2023-12-13 16:41:36,688 - Searching catalog with search_parameters: {'datetime': '2022-01-01T00:00:00Z/2023-11-01T23:59:59Z', 'intersects': {'type': 'Polygon', 'coordinates': (((-55.80602463366668, -13.267580954511516), (-55.80602463366668, -13.49938970772358), (-55.520612343249226, -13.49938970772358), (-55.520612343249226, -13.267580954511516), (-55.80602463366668, -13.267580954511516)),)}, 'limit': 10, 'collections': ['sentinel-2'], 'query': {'cloudCoverage': {'lte': 10}}}\n",
      "2023-12-13 16:41:39,559 - 10 results returned.\n"
     ]
    }
   ],
   "source": [
    "search_results = catalog.search(search_parameters=catalog.construct_search_parameters(\n",
    "    geometry= geometry,\n",
    "    start_date=\"2022-01-01\", end_date=\"2023-11-01\",\n",
    "    collections=[data_products.get(\"Sentinel-2\").get(\"collection\")],\n",
    "    max_cloudcover=10, limit=10))"
   ]
  },
  {
   "cell_type": "code",
   "execution_count": null,
   "id": "875b5309-eed0-4541-88c6-01a3a411f530",
   "metadata": {},
   "outputs": [],
   "source": []
  }
 ],
 "metadata": {
  "kernelspec": {
   "display_name": "Python 3 (ipykernel)",
   "language": "python",
   "name": "python3"
  },
  "language_info": {
   "codemirror_mode": {
    "name": "ipython",
    "version": 3
   },
   "file_extension": ".py",
   "mimetype": "text/x-python",
   "name": "python",
   "nbconvert_exporter": "python",
   "pygments_lexer": "ipython3",
   "version": "3.8.18"
  }
 },
 "nbformat": 4,
 "nbformat_minor": 5
}
